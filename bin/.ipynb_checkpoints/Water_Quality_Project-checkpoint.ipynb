{
 "cells": [
  {
   "cell_type": "markdown",
   "metadata": {},
   "source": [
    "###Codes for Final Project\n",
    "Understanding Water Quality in the Main Arm of the Fraser River"
   ]
  },
  {
   "cell_type": "code",
   "execution_count": 2,
   "metadata": {
    "collapsed": true
   },
   "outputs": [],
   "source": [
    "# import libraries\n",
    "\n",
    "import pandas as pd\n",
    "import matplotlib.pyplot as plt\n",
    "import numpy as np\n",
    "\n",
    "#stats library\n",
    "\n",
    "import statsmodels.api as sm\n",
    "import scipy\n",
    "\n",
    "#The function below is used to show the plots within the notebook\n",
    "\n",
    "%matplotlib inline"
   ]
  },
  {
   "cell_type": "code",
   "execution_count": 26,
   "metadata": {
    "collapsed": false
   },
   "outputs": [
    {
     "data": {
      "text/plain": [
       "'0.17.0'"
      ]
     },
     "execution_count": 26,
     "metadata": {},
     "output_type": "execute_result"
    }
   ],
   "source": [
    "#Check version of pandas library\n",
    "pd.__version__"
   ]
  },
  {
   "cell_type": "code",
   "execution_count": 27,
   "metadata": {
    "collapsed": false
   },
   "outputs": [
    {
     "data": {
      "text/plain": [
       "'1.10.1'"
      ]
     },
     "execution_count": 27,
     "metadata": {},
     "output_type": "execute_result"
    }
   ],
   "source": [
    "#Check version of numpy library\n",
    "np.__version__"
   ]
  },
  {
   "cell_type": "code",
   "execution_count": 28,
   "metadata": {
    "collapsed": true
   },
   "outputs": [],
   "source": [
    "#Load dataset using Pandas\n",
    "\n",
    "water_quality_data=pd.read_csv('../data/Fraser_River_Water_Data.csv', delimiter= ',')"
   ]
  },
  {
   "cell_type": "code",
   "execution_count": 32,
   "metadata": {
    "collapsed": false
   },
   "outputs": [
    {
     "data": {
      "text/html": [
       "<div>\n",
       "<table border=\"1\" class=\"dataframe\">\n",
       "  <thead>\n",
       "    <tr style=\"text-align: right;\">\n",
       "      <th></th>\n",
       "      <th>Sample time</th>\n",
       "      <th>Sample number</th>\n",
       "      <th>Sample type</th>\n",
       "      <th>Arsenic Dissolved [Lab: 1] [VMV: 107942]</th>\n",
       "      <th>Status(0)</th>\n",
       "      <th>Unit code(0)</th>\n",
       "      <th>Value modifier code(0)</th>\n",
       "      <th>Carbon Dissolved Organic [Lab: -54] [VMV: 1067]</th>\n",
       "      <th>Status(1)</th>\n",
       "      <th>Unit code(1)</th>\n",
       "      <th>...</th>\n",
       "      <th>Unit code(13)</th>\n",
       "      <th>Value modifier code(13)</th>\n",
       "      <th>Temperature Water [Lab: 80] [VMV: 1125]</th>\n",
       "      <th>Status(14)</th>\n",
       "      <th>Unit code(14)</th>\n",
       "      <th>Value modifier code(14)</th>\n",
       "      <th>Temperature Water [Lab: -54] [VMV: 1125]</th>\n",
       "      <th>Status(15)</th>\n",
       "      <th>Unit code(15)</th>\n",
       "      <th>Value modifier code(15)</th>\n",
       "    </tr>\n",
       "  </thead>\n",
       "  <tbody>\n",
       "    <tr>\n",
       "      <th>0</th>\n",
       "      <td>2008-08-27 21:50:00</td>\n",
       "      <td>08PY001319</td>\n",
       "      <td>1</td>\n",
       "      <td>NaN</td>\n",
       "      <td>NaN</td>\n",
       "      <td>NaN</td>\n",
       "      <td>NaN</td>\n",
       "      <td>8.2</td>\n",
       "      <td>U</td>\n",
       "      <td>MG/L</td>\n",
       "      <td>...</td>\n",
       "      <td>NaN</td>\n",
       "      <td>NaN</td>\n",
       "      <td>16</td>\n",
       "      <td>U</td>\n",
       "      <td>DEG C</td>\n",
       "      <td>NaN</td>\n",
       "      <td>NaN</td>\n",
       "      <td>NaN</td>\n",
       "      <td>NaN</td>\n",
       "      <td>NaN</td>\n",
       "    </tr>\n",
       "    <tr>\n",
       "      <th>1</th>\n",
       "      <td>2008-09-03 00:25:00</td>\n",
       "      <td>08PY001043</td>\n",
       "      <td>1</td>\n",
       "      <td>NaN</td>\n",
       "      <td>NaN</td>\n",
       "      <td>NaN</td>\n",
       "      <td>NaN</td>\n",
       "      <td>2.0</td>\n",
       "      <td>U</td>\n",
       "      <td>MG/L</td>\n",
       "      <td>...</td>\n",
       "      <td>NaN</td>\n",
       "      <td>NaN</td>\n",
       "      <td>16</td>\n",
       "      <td>U</td>\n",
       "      <td>DEG C</td>\n",
       "      <td>NaN</td>\n",
       "      <td>NaN</td>\n",
       "      <td>NaN</td>\n",
       "      <td>NaN</td>\n",
       "      <td>NaN</td>\n",
       "    </tr>\n",
       "    <tr>\n",
       "      <th>2</th>\n",
       "      <td>2008-09-17 22:15:00</td>\n",
       "      <td>08PY001061</td>\n",
       "      <td>1</td>\n",
       "      <td>NaN</td>\n",
       "      <td>NaN</td>\n",
       "      <td>NaN</td>\n",
       "      <td>NaN</td>\n",
       "      <td>2.9</td>\n",
       "      <td>U</td>\n",
       "      <td>MG/L</td>\n",
       "      <td>...</td>\n",
       "      <td>NaN</td>\n",
       "      <td>NaN</td>\n",
       "      <td>NaN</td>\n",
       "      <td>NaN</td>\n",
       "      <td>NaN</td>\n",
       "      <td>NaN</td>\n",
       "      <td>NaN</td>\n",
       "      <td>NaN</td>\n",
       "      <td>NaN</td>\n",
       "      <td>NaN</td>\n",
       "    </tr>\n",
       "    <tr>\n",
       "      <th>3</th>\n",
       "      <td>2008-09-30 20:30:00</td>\n",
       "      <td>08PY001124</td>\n",
       "      <td>1</td>\n",
       "      <td>NaN</td>\n",
       "      <td>NaN</td>\n",
       "      <td>NaN</td>\n",
       "      <td>NaN</td>\n",
       "      <td>1.6</td>\n",
       "      <td>U</td>\n",
       "      <td>MG/L</td>\n",
       "      <td>...</td>\n",
       "      <td>NaN</td>\n",
       "      <td>NaN</td>\n",
       "      <td>14</td>\n",
       "      <td>U</td>\n",
       "      <td>DEG C</td>\n",
       "      <td>NaN</td>\n",
       "      <td>NaN</td>\n",
       "      <td>NaN</td>\n",
       "      <td>NaN</td>\n",
       "      <td>NaN</td>\n",
       "    </tr>\n",
       "    <tr>\n",
       "      <th>4</th>\n",
       "      <td>2008-10-15 19:24:00</td>\n",
       "      <td>08PY001200</td>\n",
       "      <td>1</td>\n",
       "      <td>NaN</td>\n",
       "      <td>NaN</td>\n",
       "      <td>NaN</td>\n",
       "      <td>NaN</td>\n",
       "      <td>4.7</td>\n",
       "      <td>U</td>\n",
       "      <td>MG/L</td>\n",
       "      <td>...</td>\n",
       "      <td>NaN</td>\n",
       "      <td>NaN</td>\n",
       "      <td>11</td>\n",
       "      <td>U</td>\n",
       "      <td>DEG C</td>\n",
       "      <td>NaN</td>\n",
       "      <td>NaN</td>\n",
       "      <td>NaN</td>\n",
       "      <td>NaN</td>\n",
       "      <td>NaN</td>\n",
       "    </tr>\n",
       "  </tbody>\n",
       "</table>\n",
       "<p>5 rows × 67 columns</p>\n",
       "</div>"
      ],
      "text/plain": [
       "           Sample time Sample number  Sample type  \\\n",
       "0  2008-08-27 21:50:00    08PY001319            1   \n",
       "1  2008-09-03 00:25:00    08PY001043            1   \n",
       "2  2008-09-17 22:15:00    08PY001061            1   \n",
       "3  2008-09-30 20:30:00    08PY001124            1   \n",
       "4  2008-10-15 19:24:00    08PY001200            1   \n",
       "\n",
       "   Arsenic Dissolved [Lab: 1] [VMV: 107942] Status(0) Unit code(0)  \\\n",
       "0                                       NaN       NaN          NaN   \n",
       "1                                       NaN       NaN          NaN   \n",
       "2                                       NaN       NaN          NaN   \n",
       "3                                       NaN       NaN          NaN   \n",
       "4                                       NaN       NaN          NaN   \n",
       "\n",
       "   Value modifier code(0)  Carbon Dissolved Organic [Lab: -54] [VMV: 1067]  \\\n",
       "0                     NaN                                              8.2   \n",
       "1                     NaN                                              2.0   \n",
       "2                     NaN                                              2.9   \n",
       "3                     NaN                                              1.6   \n",
       "4                     NaN                                              4.7   \n",
       "\n",
       "  Status(1) Unit code(1)           ...             Unit code(13)  \\\n",
       "0         U         MG/L           ...                       NaN   \n",
       "1         U         MG/L           ...                       NaN   \n",
       "2         U         MG/L           ...                       NaN   \n",
       "3         U         MG/L           ...                       NaN   \n",
       "4         U         MG/L           ...                       NaN   \n",
       "\n",
       "   Value modifier code(13) Temperature Water [Lab: 80] [VMV: 1125] Status(14)  \\\n",
       "0                      NaN                                      16          U   \n",
       "1                      NaN                                      16          U   \n",
       "2                      NaN                                     NaN        NaN   \n",
       "3                      NaN                                      14          U   \n",
       "4                      NaN                                      11          U   \n",
       "\n",
       "  Unit code(14)  Value modifier code(14)  \\\n",
       "0         DEG C                      NaN   \n",
       "1         DEG C                      NaN   \n",
       "2           NaN                      NaN   \n",
       "3         DEG C                      NaN   \n",
       "4         DEG C                      NaN   \n",
       "\n",
       "  Temperature Water [Lab: -54] [VMV: 1125] Status(15)  Unit code(15)  \\\n",
       "0                                      NaN        NaN            NaN   \n",
       "1                                      NaN        NaN            NaN   \n",
       "2                                      NaN        NaN            NaN   \n",
       "3                                      NaN        NaN            NaN   \n",
       "4                                      NaN        NaN            NaN   \n",
       "\n",
       "   Value modifier code(15)  \n",
       "0                      NaN  \n",
       "1                      NaN  \n",
       "2                      NaN  \n",
       "3                      NaN  \n",
       "4                      NaN  \n",
       "\n",
       "[5 rows x 67 columns]"
      ]
     },
     "execution_count": 32,
     "metadata": {},
     "output_type": "execute_result"
    }
   ],
   "source": [
    "#Print Water_Quality_Data\n",
    "\n",
    "water_quality_data.head()"
   ]
  },
  {
   "cell_type": "code",
   "execution_count": 30,
   "metadata": {
    "collapsed": false
   },
   "outputs": [
    {
     "data": {
      "text/html": [
       "<div>\n",
       "<table border=\"1\" class=\"dataframe\">\n",
       "  <thead>\n",
       "    <tr style=\"text-align: right;\">\n",
       "      <th></th>\n",
       "      <th>Sample time</th>\n",
       "      <th>Sample number</th>\n",
       "      <th>Sample type</th>\n",
       "      <th>Arsenic Dissolved [Lab: 1] [VMV: 107942]</th>\n",
       "      <th>Status(0)</th>\n",
       "      <th>Unit code(0)</th>\n",
       "      <th>Value modifier code(0)</th>\n",
       "      <th>Carbon Dissolved Organic [Lab: -54] [VMV: 1067]</th>\n",
       "      <th>Status(1)</th>\n",
       "      <th>Unit code(1)</th>\n",
       "      <th>...</th>\n",
       "      <th>Unit code(13)</th>\n",
       "      <th>Value modifier code(13)</th>\n",
       "      <th>Temperature Water [Lab: 80] [VMV: 1125]</th>\n",
       "      <th>Status(14)</th>\n",
       "      <th>Unit code(14)</th>\n",
       "      <th>Value modifier code(14)</th>\n",
       "      <th>Temperature Water [Lab: -54] [VMV: 1125]</th>\n",
       "      <th>Status(15)</th>\n",
       "      <th>Unit code(15)</th>\n",
       "      <th>Value modifier code(15)</th>\n",
       "    </tr>\n",
       "  </thead>\n",
       "  <tbody>\n",
       "    <tr>\n",
       "      <th>91</th>\n",
       "      <td>2015-01-21 22:00:00</td>\n",
       "      <td>15PY005242</td>\n",
       "      <td>1</td>\n",
       "      <td>0.34</td>\n",
       "      <td>U</td>\n",
       "      <td>UG/L</td>\n",
       "      <td>NaN</td>\n",
       "      <td>2.70</td>\n",
       "      <td>U</td>\n",
       "      <td>MG/L</td>\n",
       "      <td>...</td>\n",
       "      <td>NaN</td>\n",
       "      <td>NaN</td>\n",
       "      <td>NaN</td>\n",
       "      <td>NaN</td>\n",
       "      <td>NaN</td>\n",
       "      <td>NaN</td>\n",
       "      <td>4.5</td>\n",
       "      <td>U</td>\n",
       "      <td>DEG C</td>\n",
       "      <td>NaN</td>\n",
       "    </tr>\n",
       "    <tr>\n",
       "      <th>92</th>\n",
       "      <td>2015-02-13 19:05:00</td>\n",
       "      <td>15PY005461</td>\n",
       "      <td>1</td>\n",
       "      <td>0.36</td>\n",
       "      <td>U</td>\n",
       "      <td>UG/L</td>\n",
       "      <td>NaN</td>\n",
       "      <td>NaN</td>\n",
       "      <td>NaN</td>\n",
       "      <td>NaN</td>\n",
       "      <td>...</td>\n",
       "      <td>NaN</td>\n",
       "      <td>NaN</td>\n",
       "      <td>NaN</td>\n",
       "      <td>NaN</td>\n",
       "      <td>NaN</td>\n",
       "      <td>NaN</td>\n",
       "      <td>6.3</td>\n",
       "      <td>U</td>\n",
       "      <td>DEG C</td>\n",
       "      <td>NaN</td>\n",
       "    </tr>\n",
       "    <tr>\n",
       "      <th>93</th>\n",
       "      <td>2015-03-26 11:04:00</td>\n",
       "      <td>15PY005597</td>\n",
       "      <td>1</td>\n",
       "      <td>NaN</td>\n",
       "      <td>NaN</td>\n",
       "      <td>NaN</td>\n",
       "      <td>NaN</td>\n",
       "      <td>5.53</td>\n",
       "      <td>U</td>\n",
       "      <td>MG/L</td>\n",
       "      <td>...</td>\n",
       "      <td>NaN</td>\n",
       "      <td>NaN</td>\n",
       "      <td>NaN</td>\n",
       "      <td>NaN</td>\n",
       "      <td>NaN</td>\n",
       "      <td>NaN</td>\n",
       "      <td>7.7</td>\n",
       "      <td>U</td>\n",
       "      <td>DEG C</td>\n",
       "      <td>NaN</td>\n",
       "    </tr>\n",
       "    <tr>\n",
       "      <th>94</th>\n",
       "      <td>2015-04-16 20:50:00</td>\n",
       "      <td>15PY005838</td>\n",
       "      <td>1</td>\n",
       "      <td>NaN</td>\n",
       "      <td>NaN</td>\n",
       "      <td>NaN</td>\n",
       "      <td>NaN</td>\n",
       "      <td>4.67</td>\n",
       "      <td>U</td>\n",
       "      <td>MG/L</td>\n",
       "      <td>...</td>\n",
       "      <td>NaN</td>\n",
       "      <td>NaN</td>\n",
       "      <td>NaN</td>\n",
       "      <td>NaN</td>\n",
       "      <td>NaN</td>\n",
       "      <td>NaN</td>\n",
       "      <td>9.0</td>\n",
       "      <td>U</td>\n",
       "      <td>DEG C</td>\n",
       "      <td>NaN</td>\n",
       "    </tr>\n",
       "    <tr>\n",
       "      <th>95</th>\n",
       "      <td>2015-04-30 20:45:00</td>\n",
       "      <td>15PY005887</td>\n",
       "      <td>1</td>\n",
       "      <td>NaN</td>\n",
       "      <td>NaN</td>\n",
       "      <td>NaN</td>\n",
       "      <td>NaN</td>\n",
       "      <td>5.07</td>\n",
       "      <td>U</td>\n",
       "      <td>MG/L</td>\n",
       "      <td>...</td>\n",
       "      <td>NaN</td>\n",
       "      <td>NaN</td>\n",
       "      <td>NaN</td>\n",
       "      <td>NaN</td>\n",
       "      <td>NaN</td>\n",
       "      <td>NaN</td>\n",
       "      <td>10.1</td>\n",
       "      <td>U</td>\n",
       "      <td>DEG C</td>\n",
       "      <td>NaN</td>\n",
       "    </tr>\n",
       "  </tbody>\n",
       "</table>\n",
       "<p>5 rows × 67 columns</p>\n",
       "</div>"
      ],
      "text/plain": [
       "            Sample time Sample number  Sample type  \\\n",
       "91  2015-01-21 22:00:00    15PY005242            1   \n",
       "92  2015-02-13 19:05:00    15PY005461            1   \n",
       "93  2015-03-26 11:04:00    15PY005597            1   \n",
       "94  2015-04-16 20:50:00    15PY005838            1   \n",
       "95  2015-04-30 20:45:00    15PY005887            1   \n",
       "\n",
       "    Arsenic Dissolved [Lab: 1] [VMV: 107942] Status(0) Unit code(0)  \\\n",
       "91                                      0.34         U         UG/L   \n",
       "92                                      0.36         U         UG/L   \n",
       "93                                       NaN       NaN          NaN   \n",
       "94                                       NaN       NaN          NaN   \n",
       "95                                       NaN       NaN          NaN   \n",
       "\n",
       "    Value modifier code(0)  Carbon Dissolved Organic [Lab: -54] [VMV: 1067]  \\\n",
       "91                     NaN                                             2.70   \n",
       "92                     NaN                                              NaN   \n",
       "93                     NaN                                             5.53   \n",
       "94                     NaN                                             4.67   \n",
       "95                     NaN                                             5.07   \n",
       "\n",
       "   Status(1) Unit code(1)           ...             Unit code(13)  \\\n",
       "91         U         MG/L           ...                       NaN   \n",
       "92       NaN          NaN           ...                       NaN   \n",
       "93         U         MG/L           ...                       NaN   \n",
       "94         U         MG/L           ...                       NaN   \n",
       "95         U         MG/L           ...                       NaN   \n",
       "\n",
       "    Value modifier code(13) Temperature Water [Lab: 80] [VMV: 1125]  \\\n",
       "91                      NaN                                     NaN   \n",
       "92                      NaN                                     NaN   \n",
       "93                      NaN                                     NaN   \n",
       "94                      NaN                                     NaN   \n",
       "95                      NaN                                     NaN   \n",
       "\n",
       "   Status(14) Unit code(14)  Value modifier code(14)  \\\n",
       "91        NaN           NaN                      NaN   \n",
       "92        NaN           NaN                      NaN   \n",
       "93        NaN           NaN                      NaN   \n",
       "94        NaN           NaN                      NaN   \n",
       "95        NaN           NaN                      NaN   \n",
       "\n",
       "   Temperature Water [Lab: -54] [VMV: 1125] Status(15)  Unit code(15)  \\\n",
       "91                                      4.5          U          DEG C   \n",
       "92                                      6.3          U          DEG C   \n",
       "93                                      7.7          U          DEG C   \n",
       "94                                      9.0          U          DEG C   \n",
       "95                                     10.1          U          DEG C   \n",
       "\n",
       "    Value modifier code(15)  \n",
       "91                      NaN  \n",
       "92                      NaN  \n",
       "93                      NaN  \n",
       "94                      NaN  \n",
       "95                      NaN  \n",
       "\n",
       "[5 rows x 67 columns]"
      ]
     },
     "execution_count": 30,
     "metadata": {},
     "output_type": "execute_result"
    }
   ],
   "source": [
    "water_quality_data.tail()"
   ]
  },
  {
   "cell_type": "code",
   "execution_count": 31,
   "metadata": {
    "collapsed": false
   },
   "outputs": [
    {
     "data": {
      "text/plain": [
       "Sample time                                  object\n",
       "Sample number                                object\n",
       "Sample type                                   int64\n",
       "Arsenic Dissolved [Lab: 1] [VMV: 107942]    float64\n",
       "Status(0)                                    object\n",
       "dtype: object"
      ]
     },
     "execution_count": 31,
     "metadata": {},
     "output_type": "execute_result"
    }
   ],
   "source": [
    "#Print the variables for the dataset to help understand the dataset better\n",
    "\n",
    "water_quality_data.dtypes.head()"
   ]
  },
  {
   "cell_type": "code",
   "execution_count": 28,
   "metadata": {
    "collapsed": false
   },
   "outputs": [
    {
     "data": {
      "text/html": [
       "<div>\n",
       "<table border=\"1\" class=\"dataframe\">\n",
       "  <thead>\n",
       "    <tr style=\"text-align: right;\">\n",
       "      <th></th>\n",
       "      <th>Temperature Water [Lab: 80] [VMV: 1125]</th>\n",
       "      <th>Oxygen Dissolved [Lab: -54] [VMV: 1124]</th>\n",
       "      <th>Specific Conductance [Lab: -54] [VMV: 2041]</th>\n",
       "      <th>Salinity [Lab: -54] [VMV: 1318]</th>\n",
       "    </tr>\n",
       "  </thead>\n",
       "  <tbody>\n",
       "    <tr>\n",
       "      <th>0</th>\n",
       "      <td>16</td>\n",
       "      <td>NaN</td>\n",
       "      <td>250</td>\n",
       "      <td>NaN</td>\n",
       "    </tr>\n",
       "    <tr>\n",
       "      <th>1</th>\n",
       "      <td>16</td>\n",
       "      <td>NaN</td>\n",
       "      <td>93</td>\n",
       "      <td>NaN</td>\n",
       "    </tr>\n",
       "    <tr>\n",
       "      <th>2</th>\n",
       "      <td>NaN</td>\n",
       "      <td>NaN</td>\n",
       "      <td>110</td>\n",
       "      <td>NaN</td>\n",
       "    </tr>\n",
       "    <tr>\n",
       "      <th>3</th>\n",
       "      <td>14</td>\n",
       "      <td>NaN</td>\n",
       "      <td>320</td>\n",
       "      <td>NaN</td>\n",
       "    </tr>\n",
       "    <tr>\n",
       "      <th>4</th>\n",
       "      <td>11</td>\n",
       "      <td>NaN</td>\n",
       "      <td>150</td>\n",
       "      <td>NaN</td>\n",
       "    </tr>\n",
       "  </tbody>\n",
       "</table>\n",
       "</div>"
      ],
      "text/plain": [
       "   Temperature Water [Lab: 80] [VMV: 1125]  \\\n",
       "0                                       16   \n",
       "1                                       16   \n",
       "2                                      NaN   \n",
       "3                                       14   \n",
       "4                                       11   \n",
       "\n",
       "   Oxygen Dissolved [Lab: -54] [VMV: 1124]  \\\n",
       "0                                      NaN   \n",
       "1                                      NaN   \n",
       "2                                      NaN   \n",
       "3                                      NaN   \n",
       "4                                      NaN   \n",
       "\n",
       "   Specific Conductance [Lab: -54] [VMV: 2041]  \\\n",
       "0                                          250   \n",
       "1                                           93   \n",
       "2                                          110   \n",
       "3                                          320   \n",
       "4                                          150   \n",
       "\n",
       "   Salinity [Lab: -54] [VMV: 1318]  \n",
       "0                              NaN  \n",
       "1                              NaN  \n",
       "2                              NaN  \n",
       "3                              NaN  \n",
       "4                              NaN  "
      ]
     },
     "execution_count": 28,
     "metadata": {},
     "output_type": "execute_result"
    }
   ],
   "source": [
    "# Print data frame for variables extracted from water_quality_data\n",
    "\n",
    "fraser_water_quality.head()"
   ]
  },
  {
   "cell_type": "markdown",
   "metadata": {},
   "source": [
    "Statistical Analysis for dataset- Linear Modelling"
   ]
  },
  {
   "cell_type": "code",
   "execution_count": 98,
   "metadata": {
    "collapsed": true
   },
   "outputs": [],
   "source": [
    "#Import pasty library to run data\n",
    "\n",
    "from patsy import dmatrices\n",
    "from patsy.builtins import *"
   ]
  },
  {
   "cell_type": "code",
   "execution_count": 7,
   "metadata": {
    "collapsed": false
   },
   "outputs": [],
   "source": [
    "#Extract variables which to be analyzed for assignment\n",
    "\n",
    "fraser_water_quality_testing=water_quality_data[['Temperature Water [Lab: 80] [VMV: 1125]',\n",
    "                                         'Oxygen Dissolved [Lab: -54] [VMV: 1124]']]"
   ]
  },
  {
   "cell_type": "code",
   "execution_count": 33,
   "metadata": {
    "collapsed": false
   },
   "outputs": [
    {
     "data": {
      "text/html": [
       "<div>\n",
       "<table border=\"1\" class=\"dataframe\">\n",
       "  <thead>\n",
       "    <tr style=\"text-align: right;\">\n",
       "      <th></th>\n",
       "      <th>Temperature Water [Lab: 80] [VMV: 1125]</th>\n",
       "      <th>Oxygen Dissolved [Lab: -54] [VMV: 1124]</th>\n",
       "    </tr>\n",
       "  </thead>\n",
       "  <tbody>\n",
       "    <tr>\n",
       "      <th>0</th>\n",
       "      <td>16</td>\n",
       "      <td>NaN</td>\n",
       "    </tr>\n",
       "    <tr>\n",
       "      <th>1</th>\n",
       "      <td>16</td>\n",
       "      <td>NaN</td>\n",
       "    </tr>\n",
       "    <tr>\n",
       "      <th>2</th>\n",
       "      <td>NaN</td>\n",
       "      <td>NaN</td>\n",
       "    </tr>\n",
       "    <tr>\n",
       "      <th>3</th>\n",
       "      <td>14</td>\n",
       "      <td>NaN</td>\n",
       "    </tr>\n",
       "    <tr>\n",
       "      <th>4</th>\n",
       "      <td>11</td>\n",
       "      <td>NaN</td>\n",
       "    </tr>\n",
       "  </tbody>\n",
       "</table>\n",
       "</div>"
      ],
      "text/plain": [
       "   Temperature Water [Lab: 80] [VMV: 1125]  \\\n",
       "0                                       16   \n",
       "1                                       16   \n",
       "2                                      NaN   \n",
       "3                                       14   \n",
       "4                                       11   \n",
       "\n",
       "   Oxygen Dissolved [Lab: -54] [VMV: 1124]  \n",
       "0                                      NaN  \n",
       "1                                      NaN  \n",
       "2                                      NaN  \n",
       "3                                      NaN  \n",
       "4                                      NaN  "
      ]
     },
     "execution_count": 33,
     "metadata": {},
     "output_type": "execute_result"
    }
   ],
   "source": [
    "#Print the head of the new dataframe\n",
    "\n",
    "fraser_water_quality_testing.head()"
   ]
  },
  {
   "cell_type": "code",
   "execution_count": 11,
   "metadata": {
    "collapsed": true
   },
   "outputs": [],
   "source": [
    "#Remove the NaN from the dataset\n",
    "water_quality_DO=fraser_water_quality_testing.dropna()"
   ]
  },
  {
   "cell_type": "code",
   "execution_count": 34,
   "metadata": {
    "collapsed": false
   },
   "outputs": [
    {
     "data": {
      "text/html": [
       "<div>\n",
       "<table border=\"1\" class=\"dataframe\">\n",
       "  <thead>\n",
       "    <tr style=\"text-align: right;\">\n",
       "      <th></th>\n",
       "      <th>Temperature Water [Lab: 80] [VMV: 1125]</th>\n",
       "      <th>Oxygen Dissolved [Lab: -54] [VMV: 1124]</th>\n",
       "    </tr>\n",
       "  </thead>\n",
       "  <tbody>\n",
       "    <tr>\n",
       "      <th>49</th>\n",
       "      <td>7.5</td>\n",
       "      <td>12.00</td>\n",
       "    </tr>\n",
       "    <tr>\n",
       "      <th>53</th>\n",
       "      <td>16.5</td>\n",
       "      <td>10.50</td>\n",
       "    </tr>\n",
       "    <tr>\n",
       "      <th>64</th>\n",
       "      <td>7.5</td>\n",
       "      <td>12.70</td>\n",
       "    </tr>\n",
       "    <tr>\n",
       "      <th>69</th>\n",
       "      <td>17.5</td>\n",
       "      <td>10.15</td>\n",
       "    </tr>\n",
       "    <tr>\n",
       "      <th>70</th>\n",
       "      <td>19.5</td>\n",
       "      <td>9.38</td>\n",
       "    </tr>\n",
       "    <tr>\n",
       "      <th>73</th>\n",
       "      <td>20.0</td>\n",
       "      <td>9.05</td>\n",
       "    </tr>\n",
       "    <tr>\n",
       "      <th>74</th>\n",
       "      <td>20.6</td>\n",
       "      <td>8.96</td>\n",
       "    </tr>\n",
       "    <tr>\n",
       "      <th>75</th>\n",
       "      <td>12.2</td>\n",
       "      <td>9.70</td>\n",
       "    </tr>\n",
       "  </tbody>\n",
       "</table>\n",
       "</div>"
      ],
      "text/plain": [
       "    Temperature Water [Lab: 80] [VMV: 1125]  \\\n",
       "49                                      7.5   \n",
       "53                                     16.5   \n",
       "64                                      7.5   \n",
       "69                                     17.5   \n",
       "70                                     19.5   \n",
       "73                                     20.0   \n",
       "74                                     20.6   \n",
       "75                                     12.2   \n",
       "\n",
       "    Oxygen Dissolved [Lab: -54] [VMV: 1124]  \n",
       "49                                    12.00  \n",
       "53                                    10.50  \n",
       "64                                    12.70  \n",
       "69                                    10.15  \n",
       "70                                     9.38  \n",
       "73                                     9.05  \n",
       "74                                     8.96  \n",
       "75                                     9.70  "
      ]
     },
     "execution_count": 34,
     "metadata": {},
     "output_type": "execute_result"
    }
   ],
   "source": [
    "#Print the dataframe for values remaining from those dropped\n",
    "water_quality_DO"
   ]
  },
  {
   "cell_type": "code",
   "execution_count": 14,
   "metadata": {
    "collapsed": false
   },
   "outputs": [],
   "source": [
    "#Change column names\n",
    "\n",
    "water_quality_DO2= water_quality_DO.rename(columns={'Temperature Water [Lab: 80] [VMV: 1125]':'Temperature_Lab80',\n",
    "                                                    'Oxygen Dissolved [Lab: -54] [VMV: 1124]':\n",
    "                                                              'Oxygen_Dissolved_Lab-54'})"
   ]
  },
  {
   "cell_type": "code",
   "execution_count": 35,
   "metadata": {
    "collapsed": false
   },
   "outputs": [
    {
     "data": {
      "text/html": [
       "<div>\n",
       "<table border=\"1\" class=\"dataframe\">\n",
       "  <thead>\n",
       "    <tr style=\"text-align: right;\">\n",
       "      <th></th>\n",
       "      <th>Temperature_Lab80</th>\n",
       "      <th>Oxygen_Dissolved_Lab-54</th>\n",
       "    </tr>\n",
       "  </thead>\n",
       "  <tbody>\n",
       "    <tr>\n",
       "      <th>49</th>\n",
       "      <td>7.5</td>\n",
       "      <td>12.00</td>\n",
       "    </tr>\n",
       "    <tr>\n",
       "      <th>53</th>\n",
       "      <td>16.5</td>\n",
       "      <td>10.50</td>\n",
       "    </tr>\n",
       "    <tr>\n",
       "      <th>64</th>\n",
       "      <td>7.5</td>\n",
       "      <td>12.70</td>\n",
       "    </tr>\n",
       "    <tr>\n",
       "      <th>69</th>\n",
       "      <td>17.5</td>\n",
       "      <td>10.15</td>\n",
       "    </tr>\n",
       "    <tr>\n",
       "      <th>70</th>\n",
       "      <td>19.5</td>\n",
       "      <td>9.38</td>\n",
       "    </tr>\n",
       "    <tr>\n",
       "      <th>73</th>\n",
       "      <td>20.0</td>\n",
       "      <td>9.05</td>\n",
       "    </tr>\n",
       "    <tr>\n",
       "      <th>74</th>\n",
       "      <td>20.6</td>\n",
       "      <td>8.96</td>\n",
       "    </tr>\n",
       "    <tr>\n",
       "      <th>75</th>\n",
       "      <td>12.2</td>\n",
       "      <td>9.70</td>\n",
       "    </tr>\n",
       "  </tbody>\n",
       "</table>\n",
       "</div>"
      ],
      "text/plain": [
       "    Temperature_Lab80  Oxygen_Dissolved_Lab-54\n",
       "49                7.5                    12.00\n",
       "53               16.5                    10.50\n",
       "64                7.5                    12.70\n",
       "69               17.5                    10.15\n",
       "70               19.5                     9.38\n",
       "73               20.0                     9.05\n",
       "74               20.6                     8.96\n",
       "75               12.2                     9.70"
      ]
     },
     "execution_count": 35,
     "metadata": {},
     "output_type": "execute_result"
    }
   ],
   "source": [
    "#Print the dataframe of the column names changed\n",
    "\n",
    "water_quality_DO2"
   ]
  },
  {
   "cell_type": "code",
   "execution_count": 18,
   "metadata": {
    "collapsed": false
   },
   "outputs": [],
   "source": [
    "#Linear Model general form for the data\n",
    "\n",
    "lm= sm.formula.ols(formula=\"Q('Oxygen_Dissolved_Lab-54') ~ Q('Temperature_Lab80')\", data= water_quality_DO2).fit()"
   ]
  },
  {
   "cell_type": "code",
   "execution_count": 19,
   "metadata": {
    "collapsed": false
   },
   "outputs": [
    {
     "data": {
      "text/plain": [
       "Intercept                 13.780598\n",
       "Q('Temperature_Lab80')    -0.229223\n",
       "dtype: float64"
      ]
     },
     "execution_count": 19,
     "metadata": {},
     "output_type": "execute_result"
    }
   ],
   "source": [
    "# This gives the beta values, the gradient is the time value\n",
    "\n",
    "lm.params"
   ]
  },
  {
   "cell_type": "code",
   "execution_count": 20,
   "metadata": {
    "collapsed": true
   },
   "outputs": [],
   "source": [
    "# Used to use the predict function we make a data frame, therefore below we have data frame that is used to make dataframe\n",
    "\n",
    "x_new=pd.DataFrame({'Temperature_Lab80': range(1,700)})"
   ]
  },
  {
   "cell_type": "code",
   "execution_count": 21,
   "metadata": {
    "collapsed": false
   },
   "outputs": [
    {
     "data": {
      "text/html": [
       "<div>\n",
       "<table border=\"1\" class=\"dataframe\">\n",
       "  <thead>\n",
       "    <tr style=\"text-align: right;\">\n",
       "      <th></th>\n",
       "      <th>Temperature_Lab80</th>\n",
       "    </tr>\n",
       "  </thead>\n",
       "  <tbody>\n",
       "    <tr>\n",
       "      <th>0</th>\n",
       "      <td>1</td>\n",
       "    </tr>\n",
       "    <tr>\n",
       "      <th>1</th>\n",
       "      <td>2</td>\n",
       "    </tr>\n",
       "    <tr>\n",
       "      <th>2</th>\n",
       "      <td>3</td>\n",
       "    </tr>\n",
       "    <tr>\n",
       "      <th>3</th>\n",
       "      <td>4</td>\n",
       "    </tr>\n",
       "    <tr>\n",
       "      <th>4</th>\n",
       "      <td>5</td>\n",
       "    </tr>\n",
       "  </tbody>\n",
       "</table>\n",
       "</div>"
      ],
      "text/plain": [
       "   Temperature_Lab80\n",
       "0                  1\n",
       "1                  2\n",
       "2                  3\n",
       "3                  4\n",
       "4                  5"
      ]
     },
     "execution_count": 21,
     "metadata": {},
     "output_type": "execute_result"
    }
   ],
   "source": [
    "x_new.head()"
   ]
  },
  {
   "cell_type": "code",
   "execution_count": 22,
   "metadata": {
    "collapsed": false
   },
   "outputs": [
    {
     "data": {
      "text/plain": [
       "array([ 13.32215146,  13.09292818,  12.86370489,  12.63448161,\n",
       "        12.40525833,  12.17603504,  11.94681176,  11.71758848,  11.4883652 ])"
      ]
     },
     "execution_count": 22,
     "metadata": {},
     "output_type": "execute_result"
    }
   ],
   "source": [
    "# create predict function to calculate linear model\n",
    "y_preds=lm.predict(x_new)\n",
    "y_preds[1:10]"
   ]
  },
  {
   "cell_type": "code",
   "execution_count": 36,
   "metadata": {
    "collapsed": false
   },
   "outputs": [
    {
     "data": {
      "text/plain": [
       "[<matplotlib.lines.Line2D at 0x375b4a8>]"
      ]
     },
     "execution_count": 36,
     "metadata": {},
     "output_type": "execute_result"
    },
    {
     "name": "stderr",
     "output_type": "stream",
     "text": [
      "C:\\Users\\Jhanelle\\Anaconda3\\lib\\site-packages\\matplotlib\\collections.py:590: FutureWarning: elementwise comparison failed; returning scalar instead, but in the future will perform elementwise comparison\n",
      "  if self._edgecolors == str('face'):\n"
     ]
    },
    {
     "data": {
      "image/png": "[encoded data removed]",
      "text/plain": [
       "<matplotlib.figure.Figure at 0x375b400>"
      ]
     },
     "metadata": {},
     "output_type": "display_data"
    }
   ],
   "source": [
    "#Plot the linear model for the dataset\n",
    "\n",
    "plot_water_quality= water_quality_DO2.plot(kind='scatter', x='Temperature_Lab80', y=\"Oxygen_Dissolved_Lab-54\")\n",
    "\n",
    "plt.xlim(0,25)\n",
    "plt.ylim(0,18)\n",
    "plt.title('Graph showing the relationship between Dissolved Oxygen and Temperature in the Fraser River Main Arm')\n",
    "\n",
    "plt.plot(x_new, y_preds, c='blue', linewidth=3)"
   ]
  },
  {
   "cell_type": "code",
   "execution_count": 25,
   "metadata": {
    "collapsed": false
   },
   "outputs": [
    {
     "name": "stdout",
     "output_type": "stream",
     "text": [
      "                                 OLS Regression Results                                 \n",
      "========================================================================================\n",
      "Dep. Variable:     Q('Oxygen_Dissolved_Lab-54')   R-squared:                       0.812\n",
      "Model:                                      OLS   Adj. R-squared:                  0.781\n",
      "Method:                           Least Squares   F-statistic:                     25.96\n",
      "Date:                          Sun, 15 Nov 2015   Prob (F-statistic):            0.00223\n",
      "Time:                                  19:12:39   Log-Likelihood:                -6.6875\n",
      "No. Observations:                             8   AIC:                             17.37\n",
      "Df Residuals:                                 6   BIC:                             17.53\n",
      "Df Model:                                     1                                         \n",
      "Covariance Type:                      nonrobust                                         \n",
      "==========================================================================================\n",
      "                             coef    std err          t      P>|t|      [95.0% Conf. Int.]\n",
      "------------------------------------------------------------------------------------------\n",
      "Intercept                 13.7806      0.719     19.159      0.000        12.021    15.541\n",
      "Q('Temperature_Lab80')    -0.2292      0.045     -5.095      0.002        -0.339    -0.119\n",
      "==============================================================================\n",
      "Omnibus:                        7.204   Durbin-Watson:                   0.784\n",
      "Prob(Omnibus):                  0.027   Jarque-Bera (JB):                2.168\n",
      "Skew:                          -1.207   Prob(JB):                        0.338\n",
      "Kurtosis:                       3.823   Cond. No.                         50.6\n",
      "==============================================================================\n",
      "\n",
      "Warnings:\n",
      "[1] Standard Errors assume that the covariance matrix of the errors is correctly specified.\n"
     ]
    },
    {
     "name": "stderr",
     "output_type": "stream",
     "text": [
      "C:\\Users\\Jhanelle\\Anaconda3\\lib\\site-packages\\scipy\\stats\\stats.py:1233: UserWarning: kurtosistest only valid for n>=20 ... continuing anyway, n=8\n",
      "  int(n))\n"
     ]
    }
   ],
   "source": [
    "#Print statistical summary for the linear regression\n",
    "\n",
    "print(lm.summary())"
   ]
  },
  {
   "cell_type": "code",
   "execution_count": 37,
   "metadata": {
    "collapsed": false
   },
   "outputs": [
    {
     "ename": "AttributeError",
     "evalue": "'AxesSubplot' object has no attribute 'savefig'",
     "output_type": "error",
     "traceback": [
      "\u001b[1;31m---------------------------------------------------------------------------\u001b[0m",
      "\u001b[1;31mAttributeError\u001b[0m                            Traceback (most recent call last)",
      "\u001b[1;32m<ipython-input-37-be252cba8f8d>\u001b[0m in \u001b[0;36m<module>\u001b[1;34m()\u001b[0m\n\u001b[1;32m----> 1\u001b[1;33m \u001b[0mplot_water_quality\u001b[0m\u001b[1;33m.\u001b[0m\u001b[0msavefig\u001b[0m\u001b[1;33m(\u001b[0m\u001b[1;34m'plot1.png'\u001b[0m\u001b[1;33m)\u001b[0m\u001b[1;33m\u001b[0m\u001b[0m\n\u001b[0m",
      "\u001b[1;31mAttributeError\u001b[0m: 'AxesSubplot' object has no attribute 'savefig'"
     ]
    }
   ],
   "source": [
    "plot_water_quality.savefig('plot1.png')"
   ]
  },
  {
   "cell_type": "code",
   "execution_count": null,
   "metadata": {
    "collapsed": true
   },
   "outputs": [],
   "source": [
    "# I need help finding other statistical techniques\n",
    "# I also need help saving the plot\n",
    "# Do you guys think I have enough visuals for my data?"
   ]
  },
  {
   "cell_type": "code",
   "execution_count": null,
   "metadata": {
    "collapsed": true
   },
   "outputs": [],
   "source": []
  },
  {
   "cell_type": "code",
   "execution_count": null,
   "metadata": {
    "collapsed": true
   },
   "outputs": [],
   "source": []
  },
  {
   "cell_type": "code",
   "execution_count": null,
   "metadata": {
    "collapsed": true
   },
   "outputs": [],
   "source": []
  },
  {
   "cell_type": "code",
   "execution_count": null,
   "metadata": {
    "collapsed": true
   },
   "outputs": [],
   "source": []
  },
  {
   "cell_type": "code",
   "execution_count": null,
   "metadata": {
    "collapsed": true
   },
   "outputs": [],
   "source": []
  },
  {
   "cell_type": "code",
   "execution_count": null,
   "metadata": {
    "collapsed": true
   },
   "outputs": [],
   "source": []
  }
 ],
 "metadata": {
  "kernelspec": {
   "display_name": "Python 3",
   "language": "python",
   "name": "python3"
  },
  "language_info": {
   "codemirror_mode": {
    "name": "ipython",
    "version": 3
   },
   "file_extension": ".py",
   "mimetype": "text/x-python",
   "name": "python",
   "nbconvert_exporter": "python",
   "pygments_lexer": "ipython3",
   "version": "3.4.3"
  }
 },
 "nbformat": 4,
 "nbformat_minor": 0
}
